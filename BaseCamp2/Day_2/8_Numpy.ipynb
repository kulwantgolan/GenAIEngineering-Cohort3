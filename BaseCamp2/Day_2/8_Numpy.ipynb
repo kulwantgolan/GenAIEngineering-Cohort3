{
 "cells": [
  {
   "cell_type": "code",
   "execution_count": 1,
   "metadata": {},
   "outputs": [],
   "source": [
    "import numpy as np"
   ]
  },
  {
   "cell_type": "code",
   "execution_count": 2,
   "metadata": {},
   "outputs": [
    {
     "name": "stdout",
     "output_type": "stream",
     "text": [
      "(5,)\n",
      "5\n",
      "[1 2 3 4 5]\n"
     ]
    }
   ],
   "source": [
    "# Creation of a simple array\n",
    "arr_1D = np.array ([1, 2, 3, 4, 5])\n",
    "print (arr_1D.shape)\n",
    "print (arr_1D.size)\n",
    "print (arr_1D)"
   ]
  },
  {
   "cell_type": "code",
   "execution_count": 3,
   "metadata": {},
   "outputs": [
    {
     "name": "stdout",
     "output_type": "stream",
     "text": [
      "(3, 3)\n",
      "9\n",
      "[[1 1 1]\n",
      " [1 2 1]\n",
      " [1 3 1]]\n"
     ]
    }
   ],
   "source": [
    "# Creation of a 2D array\n",
    "arr_2D = np.array ([[1, 1, 1],[1, 2, 1], [1,3 ,1]])\n",
    "print (arr_2D.shape)\n",
    "print (arr_2D.size)\n",
    "print (arr_2D)"
   ]
  },
  {
   "cell_type": "code",
   "execution_count": 4,
   "metadata": {},
   "outputs": [
    {
     "name": "stdout",
     "output_type": "stream",
     "text": [
      "<class 'numpy.int32'>\n",
      "2\n",
      "<class 'numpy.ndarray'>\n",
      "[1 2 1]\n",
      "<class 'numpy.ndarray'>\n",
      "[1 2 3]\n"
     ]
    }
   ],
   "source": [
    "# Accessing the array index. Note the diff between a list access\n",
    "x = arr_2D[1,1]\n",
    "print (type(x))\n",
    "print (x)\n",
    "\n",
    "# Get a row completely\n",
    "r = arr_2D [1, :]\n",
    "print (type(r))\n",
    "print (r)\n",
    "\n",
    "# Get a column completely\n",
    "c = arr_2D [:, 1]\n",
    "print (type(c))\n",
    "print (c)"
   ]
  },
  {
   "cell_type": "code",
   "execution_count": 5,
   "metadata": {},
   "outputs": [
    {
     "name": "stdout",
     "output_type": "stream",
     "text": [
      "(12, 10, 8, 20, 15, 40)\n",
      "11520000\n",
      "[0.88856476 0.59915885 0.51292145 0.439395   0.51371481 0.44725957\n",
      " 0.67149819 0.17595446 0.52109178 0.20159989 0.48487533 0.848299\n",
      " 0.06136619 0.50957188 0.96650734 0.32295324 0.14561783 0.82840885\n",
      " 0.56191392 0.20229802 0.48540417 0.86575203 0.96229646 0.95038686\n",
      " 0.25986458 0.80674635 0.53132937 0.33812178 0.16032877 0.02601566\n",
      " 0.66407734 0.0991344  0.86981093 0.63396855 0.24002866 0.99260165\n",
      " 0.02944991 0.6063643  0.16695464 0.69099061] \n",
      "\n",
      "[0.88856476 0.39345337 0.00765171 0.77747378 0.51890251 0.05535476\n",
      " 0.5724701  0.37849382 0.35934197 0.65694095 0.53481849 0.38894109\n",
      " 0.31532426 0.0600546  0.44543328] \n",
      "\n",
      "[0.86955766 0.03021155 0.43291095 0.30505096 0.45712271 0.22758947\n",
      " 0.88251194 0.34167247 0.93811723 0.5405253  0.38692263 0.57811112]\n"
     ]
    }
   ],
   "source": [
    "# Create a multi-dimension array with random values\n",
    "# Its a 6 dimensional array of random numbers, with each dimension length different\n",
    "arr_mD = np.random.rand (12, 10, 8, 20, 15, 40)\n",
    "\n",
    "print (arr_mD.shape)\n",
    "print (arr_mD.size)\n",
    "\n",
    "# Observe the dimensions ...\n",
    "print (arr_mD[0,0,0,0,0,:],'\\n')\n",
    "print (arr_mD[0,0,0,0,:,0], '\\n')\n",
    "print (arr_mD[2,3,1,4,4,3:15])"
   ]
  },
  {
   "cell_type": "code",
   "execution_count": 12,
   "metadata": {},
   "outputs": [
    {
     "name": "stdout",
     "output_type": "stream",
     "text": [
      "[[0.51292145 0.439395   0.51371481]\n",
      " [0.31533129 0.12585901 0.21961366]\n",
      " [0.09405507 0.46333728 0.66035269]\n",
      " [0.93443216 0.75905249 0.37181908]\n",
      " [0.09967576 0.68189485 0.08601526]\n",
      " [0.97824802 0.40282204 0.9528003 ]\n",
      " [0.94497773 0.21988013 0.44967245]\n",
      " [0.02989046 0.98973243 0.55558493]\n",
      " [0.52862917 0.70237897 0.25299105]\n",
      " [0.69541904 0.84319177 0.94112447]\n",
      " [0.61481821 0.18995935 0.44980103]\n",
      " [0.49843741 0.14085721 0.86204999]\n",
      " [0.24754995 0.98976229 0.46244671]\n",
      " [0.14777535 0.48400717 0.85726281]\n",
      " [0.19140504 0.22743873 0.78800809]] \n",
      "\n"
     ]
    }
   ],
   "source": [
    "# Want to see complete array ?\n",
    "#print (arr_mD)\n",
    "#print (arr_mD[0,0,0,0,0:2,2:5], '\\n')\n",
    "print (arr_mD[0,0,0,0,:,2:5], '\\n')"
   ]
  },
  {
   "cell_type": "markdown",
   "metadata": {},
   "source": [
    "Since arrays are fixed in size, it cannot be extended on the go like list  \n",
    "However there are functions provided to add elements to the array  \n",
    "These functions return a new array"
   ]
  },
  {
   "cell_type": "code",
   "execution_count": 17,
   "metadata": {},
   "outputs": [
    {
     "name": "stdout",
     "output_type": "stream",
     "text": [
      "[[1 1 1]\n",
      " [1 2 1]\n",
      " [1 3 1]]\n",
      "[[1 1 1]\n",
      " [1 2 1]\n",
      " [1 3 1]\n",
      " [1 4 1]]\n",
      "[[1 1 1 1]\n",
      " [1 2 1 4]\n",
      " [1 3 1 1]]\n"
     ]
    }
   ],
   "source": [
    "# Appending elements at the end of an existing array\n",
    "arr_2D = np.array ([[1,1,1], [1,2,1], [1,3,1]])\n",
    "print (arr_2D)\n",
    "\n",
    "# Add elements along axis 0 - outer dimention - ROW- list of values\n",
    "arr_2D_New = np.append (arr_2D, [[1,4,1]], axis=0)\n",
    "print (arr_2D_New)\n",
    "\n",
    "# Add elements along axis 1 - Inner Dimnetion - Column - list of list\n",
    "arr_2D_New = np.append (arr_2D, [[1],[4],[1]], axis=1)\n",
    "print (arr_2D_New)"
   ]
  },
  {
   "cell_type": "code",
   "execution_count": 32,
   "metadata": {},
   "outputs": [
    {
     "name": "stdout",
     "output_type": "stream",
     "text": [
      "[[1 1]\n",
      " [1 2]] \n",
      "\n",
      " [[2 1]\n",
      " [2 2]] \n",
      "\n",
      "\n",
      "8\n",
      "[[1 1]\n",
      " [1 2]\n",
      " [2 1]\n",
      " [2 2]] \n",
      "\n",
      "\n",
      "8\n",
      "[[1 1 2 1]\n",
      " [1 2 2 2]]\n"
     ]
    }
   ],
   "source": [
    "# Concatenate function can be used to merge multiple arrays into one\n",
    "arr_1 = np.array ([[1,1], [1,2]])\n",
    "arr_2 = np.array ([[2,1], [2,2]])\n",
    "\n",
    "print (arr_1, '\\n\\n', arr_2, '\\n\\n')\n",
    "\n",
    "arr_3 = np.concatenate ((arr_1, arr_2), axis=0)\n",
    "print (arr_3.size)\n",
    "print (arr_3, \"\\n\\n\")\n",
    "\n",
    "arr_4 = np.concatenate ((arr_1, arr_2), axis=1)\n",
    "print (arr_4.size)\n",
    "print (arr_4)"
   ]
  },
  {
   "cell_type": "markdown",
   "metadata": {},
   "source": [
    "Array can be re-shaped in terms of dimension & length by reshape method  \n",
    "The elements are re-arranged to the suit the required dimension, without changing the order  \n",
    "That means total number of elements will have to match to the dimension and length"
   ]
  },
  {
   "cell_type": "code",
   "execution_count": 33,
   "metadata": {},
   "outputs": [
    {
     "name": "stdout",
     "output_type": "stream",
     "text": [
      "(12,)\n",
      "[ 1  2  3  4  5  6  7  8  9 10 11 12]\n",
      "(3, 4)\n",
      "[[ 1  2  3  4]\n",
      " [ 5  6  7  8]\n",
      " [ 9 10 11 12]]\n"
     ]
    }
   ],
   "source": [
    "# Make an one dimensional array in 2D array\n",
    "arr = np.array ([1,2,3,4,5,6,7,8,9,10,11,12])\n",
    "print (arr.shape)\n",
    "print (arr)\n",
    "\n",
    "# Reshape it into 2D\n",
    "arr_2D = arr.reshape ((3,4))\n",
    "print (arr_2D.shape)\n",
    "print (arr_2D)"
   ]
  },
  {
   "cell_type": "code",
   "execution_count": 34,
   "metadata": {},
   "outputs": [
    {
     "name": "stdout",
     "output_type": "stream",
     "text": [
      "(4, 3)\n",
      "[[ 1  2  3]\n",
      " [ 4  5  6]\n",
      " [ 7  8  9]\n",
      " [10 11 12]]\n"
     ]
    }
   ],
   "source": [
    "# Reshape as 2D but diff length\n",
    "arr_2D = arr.reshape ((4,3))\n",
    "print (arr_2D.shape)\n",
    "print (arr_2D)"
   ]
  },
  {
   "cell_type": "code",
   "execution_count": 35,
   "metadata": {},
   "outputs": [
    {
     "name": "stdout",
     "output_type": "stream",
     "text": [
      "(2, 2, 3)\n",
      "[[[ 1  2  3]\n",
      "  [ 4  5  6]]\n",
      "\n",
      " [[ 7  8  9]\n",
      "  [10 11 12]]]\n"
     ]
    }
   ],
   "source": [
    "# Reshape as 3D to match the total number of elements\n",
    "arr_3D = arr.reshape ((2, 2, 3))\n",
    "print (arr_3D.shape)\n",
    "print (arr_3D)"
   ]
  },
  {
   "cell_type": "markdown",
   "metadata": {},
   "source": [
    "Arithmatic, aggregation, scalar and other mathematical operations can be done using the numpy functions  \n",
    "Its done in vectorised way, hence faster"
   ]
  },
  {
   "cell_type": "code",
   "execution_count": 45,
   "metadata": {},
   "outputs": [
    {
     "name": "stdout",
     "output_type": "stream",
     "text": [
      "Addition : \n",
      " [[ 6  8]\n",
      " [10 12]]\n",
      "Subtraction : \n",
      " [[-4 -4]\n",
      " [-4 -4]]\n",
      "Multiplication : \n",
      " [[ 5 12]\n",
      " [21 32]]\n",
      "Matrix Multiplication: \n",
      " [[19 22]\n",
      " [43 50]]\n",
      "Division : \n",
      " [[0.2        0.33333333]\n",
      " [0.42857143 0.5       ]]\n"
     ]
    }
   ],
   "source": [
    "# Basic arithmatic operations\n",
    "arr_1 = np.array ([[1, 2], [3, 4]])  \n",
    "arr_2 = np.array ([[5, 6], [7, 8]])\n",
    "\n",
    "print (\"Addition : \\n\", arr_1 + arr_2)\n",
    "print (\"Subtraction : \\n\", arr_1 - arr_2)\n",
    "print (\"Multiplication : \\n\", arr_1 * arr_2) # element wise multiplication - not matrix multiplication\n",
    "print(\"Matrix Multiplication: \\n\", arr_1 @ arr_2)      # Matrix multiplication\n",
    "print (\"Division : \\n\", arr_1 / arr_2)"
   ]
  },
  {
   "cell_type": "code",
   "execution_count": 41,
   "metadata": {},
   "outputs": [
    {
     "name": "stdout",
     "output_type": "stream",
     "text": [
      "Scalar Addition : \n",
      " [[3 4]\n",
      " [5 6]]\n",
      "Scalar Multiplication : \n",
      " [[ 3.54  7.08]\n",
      " [10.62 14.16]]\n"
     ]
    }
   ],
   "source": [
    "# Scalar operations\n",
    "print (\"Scalar Addition : \\n\", arr_1 + 2)\n",
    "print (\"Scalar Multiplication : \\n\", arr_1 * 3.54)"
   ]
  },
  {
   "cell_type": "code",
   "execution_count": 42,
   "metadata": {},
   "outputs": [
    {
     "name": "stdout",
     "output_type": "stream",
     "text": [
      "Sum of Array Elements : \n",
      " 26\n",
      "Mean of Array Elements : \n",
      " 6.5\n",
      "Min of Array Elements : \n",
      " 5\n",
      "Max of Array Elements : \n",
      " 8\n"
     ]
    }
   ],
   "source": [
    "# Aggregation functions can be made on the array\n",
    "print (\"Sum of Array Elements : \\n\", np.sum(arr_2))\n",
    "print (\"Mean of Array Elements : \\n\", np.mean(arr_2))\n",
    "print (\"Min of Array Elements : \\n\", np.min(arr_2))\n",
    "print (\"Max of Array Elements : \\n\", np.max(arr_2))"
   ]
  },
  {
   "cell_type": "code",
   "execution_count": 43,
   "metadata": {},
   "outputs": [
    {
     "name": "stdout",
     "output_type": "stream",
     "text": [
      "Square Root : \n",
      " [[2.23606798 2.44948974]\n",
      " [2.64575131 2.82842712]]\n",
      "Sine value : \n",
      " [[-0.95892427 -0.2794155 ]\n",
      " [ 0.6569866   0.98935825]]\n"
     ]
    }
   ],
   "source": [
    "# Other Mathematical operations\n",
    "print (\"Square Root : \\n\", np.sqrt (arr_2))\n",
    "print (\"Sine value : \\n\", np.sin (arr_2))"
   ]
  }
 ],
 "metadata": {
  "kernelspec": {
   "display_name": "ragvenv",
   "language": "python",
   "name": "python3"
  },
  "language_info": {
   "codemirror_mode": {
    "name": "ipython",
    "version": 3
   },
   "file_extension": ".py",
   "mimetype": "text/x-python",
   "name": "python",
   "nbconvert_exporter": "python",
   "pygments_lexer": "ipython3",
   "version": "3.11.4"
  }
 },
 "nbformat": 4,
 "nbformat_minor": 2
}
