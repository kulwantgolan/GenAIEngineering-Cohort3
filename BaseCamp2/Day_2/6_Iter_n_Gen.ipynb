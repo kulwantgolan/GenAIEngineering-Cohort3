{
 "cells": [
  {
   "cell_type": "markdown",
   "metadata": {},
   "source": [
    "### Iterator\n",
    "Iterator provides a way to access sequentially the elements of a set, without handling all elements at a time  \n",
    "Its like moving a cursor on the data set  \n",
    "This 'one at a time' appraoch makes it memory efficient and hence useful for large data set"
   ]
  },
  {
   "cell_type": "code",
   "execution_count": 6,
   "metadata": {},
   "outputs": [
    {
     "name": "stdout",
     "output_type": "stream",
     "text": [
      "py\n",
      "nl\n",
      "hf\n"
     ]
    }
   ],
   "source": [
    "# A iterable (list) is created and iter function is used to access the elements\n",
    "topics = ['py', 'nl', 'hf', 'llm', 'prompt', 'rag']\n",
    "\n",
    "i_topics = iter (topics)\n",
    "\n",
    "print (next(i_topics))\n",
    "print (next(i_topics))\n",
    "print (next(i_topics))"
   ]
  },
  {
   "cell_type": "code",
   "execution_count": 24,
   "metadata": {},
   "outputs": [
    {
     "name": "stdout",
     "output_type": "stream",
     "text": [
      "<class 'list_iterator'>\n",
      "<list_iterator object at 0x000002310BD21330>\n"
     ]
    }
   ],
   "source": [
    "# Can be used in loop, where it handles the iter and gets the next element\n",
    "# i_topic is iterator object; each iteration gets next element\n",
    "print(type(i_topics))\n",
    "print(i_topics)\n",
    "for item in i_topics:\n",
    "    print (item)"
   ]
  },
  {
   "cell_type": "code",
   "execution_count": 10,
   "metadata": {},
   "outputs": [
    {
     "ename": "StopIteration",
     "evalue": "",
     "output_type": "error",
     "traceback": [
      "\u001b[31m---------------------------------------------------------------------------\u001b[39m",
      "\u001b[31mStopIteration\u001b[39m                             Traceback (most recent call last)",
      "\u001b[36mCell\u001b[39m\u001b[36m \u001b[39m\u001b[32mIn[10]\u001b[39m\u001b[32m, line 2\u001b[39m\n\u001b[32m      1\u001b[39m \u001b[38;5;66;03m# Try what happens ..\u001b[39;00m\n\u001b[32m----> \u001b[39m\u001b[32m2\u001b[39m \u001b[38;5;28mprint\u001b[39m (\u001b[38;5;28;43mnext\u001b[39;49m\u001b[43m(\u001b[49m\u001b[43mi_topics\u001b[49m\u001b[43m)\u001b[49m)\n",
      "\u001b[31mStopIteration\u001b[39m: "
     ]
    }
   ],
   "source": [
    "# Try what happens ..\n",
    "print (next(i_topics))"
   ]
  },
  {
   "cell_type": "markdown",
   "metadata": {},
   "source": [
    "### Generator\n",
    "Generator provides a way to have an iterator defined for an indefinite iterable  \n",
    "The resulting iterators treats upto 'yield' is one iteration\n",
    "\n",
    "Control over function execution part-by-part."
   ]
  },
  {
   "cell_type": "code",
   "execution_count": 27,
   "metadata": {},
   "outputs": [],
   "source": [
    "# Function for generator\n",
    "def my_gen (limit : int) :\n",
    "\n",
    "    for idx in range (limit) :\n",
    "\n",
    "        print ('Some calculation ...')\n",
    "        \n",
    "        # Yield is like a 'return' in the context of the iterator\n",
    "        yield idx\n",
    "        # it returns an iterator - generator is a type of iterator\n"
   ]
  },
  {
   "cell_type": "code",
   "execution_count": 28,
   "metadata": {},
   "outputs": [
    {
     "name": "stdout",
     "output_type": "stream",
     "text": [
      "<class 'generator'>\n",
      "<generator object my_gen at 0x000002310C2B9C40>\n",
      "Some calculation ...\n",
      "0\n"
     ]
    }
   ],
   "source": [
    "# Call the function to get the iterator and use it\n",
    "g1 = my_gen (5)\n",
    "print (type(g1))\n",
    "print(g1)\n",
    "print (next(g1))\n"
   ]
  },
  {
   "cell_type": "code",
   "execution_count": 17,
   "metadata": {},
   "outputs": [
    {
     "name": "stdout",
     "output_type": "stream",
     "text": [
      "Some calculation ...\n",
      "1\n",
      "Some calculation ...\n",
      "2\n",
      "Some calculation ...\n",
      "3\n",
      "Some calculation ...\n",
      "4\n"
     ]
    }
   ],
   "source": [
    "for item in g1 :\n",
    "    print (item)"
   ]
  }
 ],
 "metadata": {
  "kernelspec": {
   "display_name": "ragvenv",
   "language": "python",
   "name": "python3"
  },
  "language_info": {
   "codemirror_mode": {
    "name": "ipython",
    "version": 3
   },
   "file_extension": ".py",
   "mimetype": "text/x-python",
   "name": "python",
   "nbconvert_exporter": "python",
   "pygments_lexer": "ipython3",
   "version": "3.11.4"
  }
 },
 "nbformat": 4,
 "nbformat_minor": 2
}
