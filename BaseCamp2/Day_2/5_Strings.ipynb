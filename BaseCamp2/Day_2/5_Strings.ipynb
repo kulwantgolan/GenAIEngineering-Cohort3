{
 "cells": [
  {
   "cell_type": "markdown",
   "metadata": {},
   "source": [
    "### String\n",
    "Python string provides some specific features, which are explored here"
   ]
  },
  {
   "cell_type": "code",
   "execution_count": 1,
   "metadata": {},
   "outputs": [
    {
     "name": "stdout",
     "output_type": "stream",
     "text": [
      "<class 'str'> <class 'str'> <class 'str'>\n",
      "<class 'str'>\n",
      "16\n",
      "This is a string\n"
     ]
    }
   ],
   "source": [
    "# String assignment and concatenation\n",
    "s1 = \"This is \"\n",
    "s2 = 'a'\n",
    "s3 = ' string'\n",
    "\n",
    "print (type (s1), type (s2), type (s3))\n",
    "\n",
    "# Concatenate, check type, content and length\n",
    "s4 = s1 + s2 + s3\n",
    "print (type (s4))\n",
    "print (len (s4))\n",
    "print (s4)"
   ]
  },
  {
   "cell_type": "code",
   "execution_count": null,
   "metadata": {},
   "outputs": [
    {
     "name": "stdout",
     "output_type": "stream",
     "text": [
      "Hello , 🌎!\n",
      "b'Hello , \\xf0\\x9f\\x8c\\x8e!'\n",
      "10 13\n"
     ]
    }
   ],
   "source": [
    "# String handles unicode characters as well\n",
    "welcome = \"Hello , 🌎!\"\n",
    "print (welcome)\n",
    "\n",
    "# Check the value\n",
    "welcome_utf = welcome.encode('utf-8') #expanded form - causing change in length\n",
    "print (welcome_utf)\n",
    "\n",
    "# Check the size\n",
    "print (len (welcome), len (welcome_utf))"
   ]
  },
  {
   "cell_type": "code",
   "execution_count": 4,
   "metadata": {},
   "outputs": [
    {
     "name": "stdout",
     "output_type": "stream",
     "text": [
      "hi\n",
      " lon\n",
      "This is a \n",
      "is a message, which is not very long, but actually little long\n"
     ]
    }
   ],
   "source": [
    "# String slicing is done based on the char positions\n",
    "Message = \"This is a message, which is not very long, but actually little long\"\n",
    "\n",
    "print (Message[1:3])\n",
    "print (Message[-5:-1])\n",
    "print (Message[:10])\n",
    "print (Message[5:])"
   ]
  },
  {
   "cell_type": "markdown",
   "metadata": {},
   "source": [
    "String functions are provided in python for specific string manipulation"
   ]
  },
  {
   "cell_type": "code",
   "execution_count": 5,
   "metadata": {},
   "outputs": [
    {
     "name": "stdout",
     "output_type": "stream",
     "text": [
      "ITS A TEXT VARIABLE\n",
      "its a text variable\n",
      "Its a text variable\n"
     ]
    }
   ],
   "source": [
    "# Change the case of string\n",
    "my_str = \"Its a Text Variable\"\n",
    "\n",
    "print (my_str.upper())\n",
    "print (my_str.lower())\n",
    "print (my_str.capitalize ())"
   ]
  },
  {
   "cell_type": "code",
   "execution_count": 6,
   "metadata": {},
   "outputs": [
    {
     "name": "stdout",
     "output_type": "stream",
     "text": [
      "       There are space before and after     \n",
      " There are space before and after\n"
     ]
    }
   ],
   "source": [
    "#Remove the Leading and trailing spaces from the string\n",
    "my_str = \"       There are space before and after    \"\n",
    "print (my_str,'\\n', my_str.strip())"
   ]
  },
  {
   "cell_type": "code",
   "execution_count": 10,
   "metadata": {},
   "outputs": [
    {
     "name": "stdout",
     "output_type": "stream",
     "text": [
      "This is a word in a sentence.\n"
     ]
    }
   ],
   "source": [
    "# Replace part of string with another string\n",
    "my_str = \"This is a string in a sentence.\"\n",
    "\n",
    "print (my_str.replace (\"string\", 'word'))"
   ]
  },
  {
   "cell_type": "code",
   "execution_count": 11,
   "metadata": {},
   "outputs": [
    {
     "name": "stdout",
     "output_type": "stream",
     "text": [
      "Person with name Vishnu plays a role of a Mentor\n"
     ]
    }
   ],
   "source": [
    "# Formatted string is used to construct a string with variable elements\n",
    "name = \"Vishnu\"\n",
    "role = \"Mentor\"\n",
    "\n",
    "print (f\"Person with name {name} plays a role of a {role}\")"
   ]
  }
 ],
 "metadata": {
  "kernelspec": {
   "display_name": "ragvenv",
   "language": "python",
   "name": "python3"
  },
  "language_info": {
   "codemirror_mode": {
    "name": "ipython",
    "version": 3
   },
   "file_extension": ".py",
   "mimetype": "text/x-python",
   "name": "python",
   "nbconvert_exporter": "python",
   "pygments_lexer": "ipython3",
   "version": "3.11.4"
  }
 },
 "nbformat": 4,
 "nbformat_minor": 2
}
