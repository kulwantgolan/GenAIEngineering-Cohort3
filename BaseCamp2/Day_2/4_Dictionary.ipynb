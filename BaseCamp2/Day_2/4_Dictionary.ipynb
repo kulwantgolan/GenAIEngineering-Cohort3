{
 "cells": [
  {
   "cell_type": "markdown",
   "metadata": {},
   "source": [
    "### Dictionary stores \"Key-Value\" pairs  \n",
    "Dict is a data structure where values are stored at 'named' indices  \n",
    "This helps for a meaningful access from an index  \n",
    "Create a dict by defining Key : Value pairs separated by comma in a curly barces  \n",
    "*Var_Dict = {k1 : v1, k2 : v2}*"
   ]
  },
  {
   "cell_type": "code",
   "execution_count": 1,
   "metadata": {},
   "outputs": [
    {
     "name": "stdout",
     "output_type": "stream",
     "text": [
      "<class 'dict'>\n",
      "{'name': 'Vishnu', 'role': 'student', 'batch': 'C2'}\n"
     ]
    }
   ],
   "source": [
    "# Create a simple dictionary and check the data\n",
    "participant = {'name' : 'Vishnu', 'role' : 'student', 'batch' : 'C2'}\n",
    "\n",
    "print (type(participant))\n",
    "print (participant)"
   ]
  },
  {
   "cell_type": "code",
   "execution_count": 2,
   "metadata": {},
   "outputs": [
    {
     "name": "stdout",
     "output_type": "stream",
     "text": [
      "Participant Name :  Vishnu\n",
      "Pariticpant Role :  student\n"
     ]
    }
   ],
   "source": [
    "# Access specific elements of the dict\n",
    "print (\"Participant Name : \", participant['name'])\n",
    "print (\"Pariticpant Role : \",participant.get ('role'))"
   ]
  },
  {
   "cell_type": "code",
   "execution_count": null,
   "metadata": {},
   "outputs": [
    {
     "name": "stdout",
     "output_type": "stream",
     "text": [
      "{'name': 'Vishnu', 'role': 'student', 'batch': 'C3', 'city': 'Bangalore'}\n"
     ]
    }
   ],
   "source": [
    "# Elements can be added or modified without disturbing the order\n",
    "participant ['city'] = 'Bangalore' #added\n",
    "participant['batch'] = 'C3' #modified\n",
    "\n",
    "print (participant)"
   ]
  },
  {
   "cell_type": "code",
   "execution_count": 22,
   "metadata": {},
   "outputs": [
    {
     "name": "stdout",
     "output_type": "stream",
     "text": [
      "{'min': 6, 'max': 6, 'threshold': 6, 'cutoff': 6}\n"
     ]
    }
   ],
   "source": [
    "# Start with empty dict. Use a loop on list to make it dict keys\n",
    "config_list = ['min', 'max', 'threshold', 'cutoff']\n",
    "#config_val = [6.0, 3, 1, 0.1]\n",
    "config_val = 6\n",
    "config_dict = {}\n",
    "\n",
    "for idx in config_list :\n",
    "\n",
    "    # config_dict [idx] = config_val [config_list.index(idx)]\n",
    "    config_dict [idx] = config_val \n",
    "\n",
    "print (config_dict)\n"
   ]
  },
  {
   "cell_type": "markdown",
   "metadata": {},
   "source": [
    "Dictionay has methods associated to it with specific purpose  \n",
    "keys, values, items, update, clear"
   ]
  },
  {
   "cell_type": "code",
   "execution_count": 23,
   "metadata": {},
   "outputs": [
    {
     "name": "stdout",
     "output_type": "stream",
     "text": [
      "dict_keys(['min', 'max', 'threshold', 'cutoff'])\n",
      "dict_values([6, 6, 6, 6])\n",
      "dict_items([('min', 6), ('max', 6), ('threshold', 6), ('cutoff', 6)])\n"
     ]
    }
   ],
   "source": [
    "# Use the keys, values and items\n",
    "print (config_dict.keys())\n",
    "print (config_dict.values())\n",
    "print (config_dict.items())"
   ]
  },
  {
   "cell_type": "markdown",
   "metadata": {},
   "source": [
    ">Loop through the dictionary elements  \n",
    ">It can be on values of index as well "
   ]
  },
  {
   "cell_type": "code",
   "execution_count": 24,
   "metadata": {},
   "outputs": [
    {
     "name": "stdout",
     "output_type": "stream",
     "text": [
      "{'min': 0.0, 'max': 100.0, 'threshold': 10.0, 'cutoff': 6}\n"
     ]
    }
   ],
   "source": [
    "# Loop through the dict using keys and update values\n",
    "\n",
    "values = [0.0, 100.0, 10.0]\n",
    "\n",
    "for idx, val in zip(config_dict.keys (), values):\n",
    "\n",
    "    config_dict[idx] = val\n",
    "\n",
    "print (config_dict)"
   ]
  },
  {
   "cell_type": "code",
   "execution_count": 25,
   "metadata": {},
   "outputs": [
    {
     "name": "stdout",
     "output_type": "stream",
     "text": [
      "Value is :  0.0\n",
      "Value is :  100.0\n",
      "Value is :  10.0\n",
      "Value is :  6\n"
     ]
    }
   ],
   "source": [
    "# Loop through the values\n",
    "for Val in config_dict.values () :\n",
    "\n",
    "    print (\"Value is : \", Val)"
   ]
  },
  {
   "cell_type": "code",
   "execution_count": 26,
   "metadata": {},
   "outputs": [
    {
     "name": "stdout",
     "output_type": "stream",
     "text": [
      "Value at Index min is 0.0\n",
      "Value at Index max is 100.0\n",
      "Value at Index threshold is 10.0\n",
      "Value at Index cutoff is 6\n"
     ]
    }
   ],
   "source": [
    "# Loop through both index and value\n",
    "for Idx, Val in config_dict.items ():\n",
    "\n",
    "    print (f\"Value at Index {Idx} is {Val}\")"
   ]
  },
  {
   "cell_type": "markdown",
   "metadata": {},
   "source": [
    "### Dict comprehension\n",
    "Dict comprehension is an short cut to define a dict which is based on an iterable "
   ]
  },
  {
   "cell_type": "code",
   "execution_count": 27,
   "metadata": {},
   "outputs": [
    {
     "name": "stdout",
     "output_type": "stream",
     "text": [
      "{1: 2.5, 3: 7.5, 6: 15.0, 5: 12.5, 8: 20.0}\n"
     ]
    }
   ],
   "source": [
    "# Define a list and based on it make a dict using comprehension\n",
    "values = [1, 3, 6, 5, 8]\n",
    "scaled_values = {x : x*2.5 for x in values}\n",
    "print (scaled_values)"
   ]
  }
 ],
 "metadata": {
  "kernelspec": {
   "display_name": "ragvenv",
   "language": "python",
   "name": "python3"
  },
  "language_info": {
   "codemirror_mode": {
    "name": "ipython",
    "version": 3
   },
   "file_extension": ".py",
   "mimetype": "text/x-python",
   "name": "python",
   "nbconvert_exporter": "python",
   "pygments_lexer": "ipython3",
   "version": "3.11.4"
  }
 },
 "nbformat": 4,
 "nbformat_minor": 2
}
