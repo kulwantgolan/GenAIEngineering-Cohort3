{
 "cells": [
  {
   "cell_type": "markdown",
   "metadata": {},
   "source": [
    "### Thread\n",
    "Provides concurrent execution  \n",
    "Constrained by GIL. So useful incase of i/o intensive tasks  "
   ]
  },
  {
   "cell_type": "code",
   "execution_count": 1,
   "metadata": {},
   "outputs": [],
   "source": [
    "import threading\n",
    "import time\n",
    "from datetime import datetime"
   ]
  },
  {
   "cell_type": "code",
   "execution_count": 2,
   "metadata": {},
   "outputs": [],
   "source": [
    "# Function that represents a Task, that is resource OR i/o intense\n",
    "# It could be accessing API of external tool, DB access, File access etc\n",
    "# Delay or latency is simulated by sleep\n",
    "\n",
    "def Task (thr_name: str, latency : int) :\n",
    "\n",
    "    # Simulate the latency by sleep. Its in sec\n",
    "    time.sleep (latency)\n",
    "\n",
    "    print (\"Thread \"+thr_name+\" Executed\")"
   ]
  },
  {
   "cell_type": "code",
   "execution_count": 3,
   "metadata": {},
   "outputs": [
    {
     "name": "stdout",
     "output_type": "stream",
     "text": [
      "Thread T1 Executed\n",
      "Thread T2 Executed\n",
      "2025-10-27 12:05:01.473860 2025-10-27 12:05:10.479837\n"
     ]
    }
   ],
   "source": [
    "# Multiple Tasks executed (to access different DB / Tool)\n",
    "# First execute without threading\n",
    "\n",
    "# take time stamp\n",
    "Before = datetime.now ()\n",
    "\n",
    "# Tasks\n",
    "Task (\"T1\", 5)\n",
    "Task (\"T2\", 4)\n",
    "\n",
    "After = datetime.now ()\n",
    "\n",
    "print (Before, After)"
   ]
  },
  {
   "cell_type": "code",
   "execution_count": 4,
   "metadata": {},
   "outputs": [
    {
     "name": "stdout",
     "output_type": "stream",
     "text": [
      "Thread T2 Executed\n",
      "Thread T1 Executed\n",
      "2025-10-27 12:07:07.537813 2025-10-27 12:07:12.544492\n"
     ]
    }
   ],
   "source": [
    "# Multiple Tasks executed (to access different DB / Tool)\n",
    "# Execute as multi thread\n",
    "\n",
    "# Creating threads\n",
    "T1 = threading.Thread (target=Task, args=(\"T1\", 5))\n",
    "T2 = threading.Thread (target=Task, args=(\"T2\", 4))\n",
    "\n",
    "# take time stamp\n",
    "Before = datetime.now ()\n",
    "\n",
    "# Tasks as Thread\n",
    "T1.start ()\n",
    "T2.start ()\n",
    "\n",
    "# Wait for both to complete\n",
    "T1.join ()\n",
    "T2.join ()\n",
    "\n",
    "After = datetime.now ()\n",
    "\n",
    "print (Before, After)"
   ]
  },
  {
   "cell_type": "markdown",
   "metadata": {},
   "source": [
    "### Process\n",
    "Process creates part of program to run parallelly in multiple cores  \n",
    "Useful for CPU intense tasks (heavy computation, image processing ...)"
   ]
  },
  {
   "cell_type": "code",
   "execution_count": 5,
   "metadata": {},
   "outputs": [],
   "source": [
    "import multiprocessing"
   ]
  },
  {
   "cell_type": "code",
   "execution_count": 5,
   "metadata": {},
   "outputs": [],
   "source": [
    "# Define a Task that is heavy in CPU time\n",
    "def cpu_task (name : str, counter : int):\n",
    "\n",
    "    # Execute a computation in loop to simulate\n",
    "    Res = 0\n",
    "    for i in range (counter):\n",
    "\n",
    "        Res = Res + (((i ** 2) + 2.0) * 1.45)\n",
    "\n",
    "    print (\"Task \"+name+\" Executed. Result : \",str(Res))"
   ]
  },
  {
   "cell_type": "code",
   "execution_count": 6,
   "metadata": {},
   "outputs": [
    {
     "name": "stdout",
     "output_type": "stream",
     "text": [
      "Task T1 Executed. Result :  6.0416664854174735e+22\n",
      "Task T2 Executed. Result :  3.0933332173336498e+22\n",
      "2025-10-27 12:09:41.030279 2025-10-27 12:09:53.002127\n"
     ]
    }
   ],
   "source": [
    "# Check if thread really helps\n",
    "# Execute one by one (without thread)\n",
    "\n",
    "# take time stamp\n",
    "Before = datetime.now ()\n",
    "\n",
    "cpu_task (\"T1\", 50000000)\n",
    "cpu_task (\"T2\", 40000000)\n",
    "\n",
    "After = datetime.now ()\n",
    "\n",
    "print (Before, After)"
   ]
  },
  {
   "cell_type": "code",
   "execution_count": 7,
   "metadata": {},
   "outputs": [
    {
     "name": "stdout",
     "output_type": "stream",
     "text": [
      "Task T2 Executed. Result :  3.0933332173336498e+22\n",
      "Task T1 Executed. Result :  6.0416664854174735e+22\n",
      "2025-10-27 12:10:56.682480 2025-10-27 12:11:08.591968\n"
     ]
    }
   ],
   "source": [
    "# Execute with multi thread\n",
    "\n",
    "# Creating threads\n",
    "T1 = threading.Thread (target=cpu_task, args=(\"T1\", 50000000))\n",
    "T2 = threading.Thread (target=cpu_task, args=(\"T2\", 40000000))\n",
    "\n",
    "# take time stamp\n",
    "Before = datetime.now ()\n",
    "\n",
    "# Tasks as Thread\n",
    "T1.start ()\n",
    "T2.start ()\n",
    "\n",
    "# Wait for both to complete\n",
    "T1.join ()\n",
    "T2.join ()\n",
    "\n",
    "After = datetime.now ()\n",
    "\n",
    "print (Before, After)"
   ]
  },
  {
   "cell_type": "code",
   "execution_count": 9,
   "metadata": {},
   "outputs": [],
   "source": [
    "# Execute with multi process\n",
    "# From seperate *.py file\n"
   ]
  }
 ],
 "metadata": {
  "kernelspec": {
   "display_name": "ragvenv",
   "language": "python",
   "name": "python3"
  },
  "language_info": {
   "codemirror_mode": {
    "name": "ipython",
    "version": 3
   },
   "file_extension": ".py",
   "mimetype": "text/x-python",
   "name": "python",
   "nbconvert_exporter": "python",
   "pygments_lexer": "ipython3",
   "version": "3.11.4"
  }
 },
 "nbformat": 4,
 "nbformat_minor": 2
}
